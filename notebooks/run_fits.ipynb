{
 "cells": [
  {
   "cell_type": "code",
   "execution_count": 1,
   "metadata": {},
   "outputs": [
    {
     "name": "stderr",
     "output_type": "stream",
     "text": [
      "/Users/nksaunde/anaconda3/lib/python3.6/site-packages/h5py/__init__.py:36: FutureWarning: Conversion of the second argument of issubdtype from `float` to `np.floating` is deprecated. In future, it will be treated as `np.float64 == np.dtype(float).type`.\n",
      "  from ._conv import register_converters as _register_converters\n"
     ]
    }
   ],
   "source": [
    "import uniformplanets as up"
   ]
  },
  {
   "cell_type": "code",
   "execution_count": 2,
   "metadata": {},
   "outputs": [],
   "source": [
    "tf = up.TransitFit(target_name='K2-188')"
   ]
  },
  {
   "cell_type": "code",
   "execution_count": null,
   "metadata": {},
   "outputs": [
    {
     "name": "stderr",
     "output_type": "stream",
     "text": [
      "Sampling 4 chains: 100%|██████████| 308/308 [05:18<00:00,  2.10s/draws]\n",
      "The chain contains only diverging samples. The model is probably misspecified.\n",
      "Sampling 4 chains: 100%|██████████| 108/108 [01:19<00:00,  1.04draws/s]\n",
      "The chain contains only diverging samples. The model is probably misspecified.\n",
      "The chain contains only diverging samples. The model is probably misspecified.\n",
      "The chain contains only diverging samples. The model is probably misspecified.\n",
      "The chain contains only diverging samples. The model is probably misspecified.\n",
      "Sampling 4 chains: 100%|██████████| 208/208 [03:09<00:00,  2.81s/draws]\n",
      "The chain contains only diverging samples. The model is probably misspecified.\n",
      "The chain contains only diverging samples. The model is probably misspecified.\n",
      "Sampling 4 chains:  38%|███▊      | 234/608 [03:37<08:24,  1.35s/draws]"
     ]
    }
   ],
   "source": [
    "tf.test_fit()"
   ]
  },
  {
   "cell_type": "code",
   "execution_count": null,
   "metadata": {},
   "outputs": [],
   "source": []
  }
 ],
 "metadata": {
  "kernelspec": {
   "display_name": "Python 3",
   "language": "python",
   "name": "python3"
  },
  "language_info": {
   "codemirror_mode": {
    "name": "ipython",
    "version": 3
   },
   "file_extension": ".py",
   "mimetype": "text/x-python",
   "name": "python",
   "nbconvert_exporter": "python",
   "pygments_lexer": "ipython3",
   "version": "3.6.5"
  }
 },
 "nbformat": 4,
 "nbformat_minor": 2
}
