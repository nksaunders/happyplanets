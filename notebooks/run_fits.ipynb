{
 "cells": [
  {
   "cell_type": "code",
   "execution_count": 2,
   "metadata": {},
   "outputs": [
    {
     "name": "stderr",
     "output_type": "stream",
     "text": [
      "/Users/nksaunde/anaconda3/lib/python3.6/site-packages/h5py/__init__.py:36: FutureWarning: Conversion of the second argument of issubdtype from `float` to `np.floating` is deprecated. In future, it will be treated as `np.float64 == np.dtype(float).type`.\n",
      "  from ._conv import register_converters as _register_converters\n"
     ]
    }
   ],
   "source": [
    "from fit_system import TransitFit"
   ]
  },
  {
   "cell_type": "code",
   "execution_count": 3,
   "metadata": {},
   "outputs": [],
   "source": [
    "# tf = TransitFit(ind=309)\n",
    "tf = TransitFit(target_name='K2-188')"
   ]
  },
  {
   "cell_type": "code",
   "execution_count": 4,
   "metadata": {},
   "outputs": [
    {
     "name": "stderr",
     "output_type": "stream",
     "text": [
      "/Users/nksaunde/anaconda3/lib/python3.6/site-packages/numpy/lib/nanfunctions.py:1172: RuntimeWarning: All-NaN slice encountered\n",
      "  overwrite_input, interpolation)\n",
      "/Users/nksaunde/anaconda3/lib/python3.6/site-packages/theano/tensor/slinalg.py:255: LinAlgWarning: scipy.linalg.solve\n",
      "Ill-conditioned matrix detected. Result is not guaranteed to be accurate.\n",
      "Reciprocal condition number2.361515e-19\n",
      "  rval = scipy.linalg.solve(A, b)\n",
      "/Users/nksaunde/anaconda3/lib/python3.6/site-packages/numpy/lib/nanfunctions.py:1172: RuntimeWarning: All-NaN slice encountered\n",
      "  overwrite_input, interpolation)\n",
      "/Users/nksaunde/anaconda3/lib/python3.6/site-packages/theano/tensor/slinalg.py:255: LinAlgWarning: scipy.linalg.solve\n",
      "Ill-conditioned matrix detected. Result is not guaranteed to be accurate.\n",
      "Reciprocal condition number1.624028e-18\n",
      "  rval = scipy.linalg.solve(A, b)\n",
      "/Users/nksaunde/anaconda3/lib/python3.6/site-packages/numpy/lib/nanfunctions.py:1172: RuntimeWarning: All-NaN slice encountered\n",
      "  overwrite_input, interpolation)\n",
      "/Users/nksaunde/anaconda3/lib/python3.6/site-packages/theano/tensor/slinalg.py:255: LinAlgWarning: scipy.linalg.solve\n",
      "Ill-conditioned matrix detected. Result is not guaranteed to be accurate.\n",
      "Reciprocal condition number4.857692e-20\n",
      "  rval = scipy.linalg.solve(A, b)\n"
     ]
    },
    {
     "name": "stdout",
     "output_type": "stream",
     "text": [
      "optimizing logp for variables: ['t0', 'logP']\n",
      "message: Desired error not necessarily achieved due to precision loss.\n",
      "logp: -1278653.1549015667 -> -1179667.4351581966\n",
      "optimizing logp for variables: ['mean', 'logr', 'r_star']\n",
      "message: Desired error not necessarily achieved due to precision loss.\n",
      "logp: -1179667.4351581966 -> -46257.36544316274\n",
      "optimizing logp for variables: ['r_star']\n",
      "message: Optimization terminated successfully.\n",
      "logp: -46257.36544316274 -> -10980.330724298052\n",
      "optimizing logp for variables: ['mean', 't0', 'logP']\n",
      "message: Desired error not necessarily achieved due to precision loss.\n",
      "logp: -10980.330724298052 -> -8223.361466004902\n",
      "optimizing logp for variables: ['mean', 'logr', 'r_star']\n",
      "message: Desired error not necessarily achieved due to precision loss.\n",
      "logp: -8223.361466004902 -> -3199.204808369949\n",
      "optimizing logp for variables: ['logs2', 'logP', 'logr', 'b_interval__', 'u_quadlimbdark__', 't0', 'm_star', 'r_star', 'mean']\n",
      "message: Desired error not necessarily achieved due to precision loss.\n",
      "logp: -3199.204808369949 -> 1412.7619525698128\n"
     ]
    },
    {
     "data": {
      "image/png": "[encoded data removed]",
      "text/plain": [
       "<Figure size 720x288 with 1 Axes>"
      ]
     },
     "metadata": {},
     "output_type": "display_data"
    }
   ],
   "source": [
    "tf.test_fit()"
   ]
  },
  {
   "cell_type": "code",
   "execution_count": 5,
   "metadata": {},
   "outputs": [
    {
     "name": "stderr",
     "output_type": "stream",
     "text": [
      "Sampling 4 chains: 100%|██████████| 308/308 [01:01<00:00,  4.97draws/s]\n",
      "Sampling 4 chains: 100%|██████████| 108/108 [00:19<00:00,  2.05draws/s]\n",
      "Sampling 4 chains: 100%|██████████| 208/208 [00:45<00:00,  1.65draws/s]\n",
      "Sampling 4 chains: 100%|██████████| 408/408 [01:22<00:00,  4.95draws/s]\n",
      "Sampling 4 chains: 100%|██████████| 208/208 [00:40<00:00,  2.36draws/s]\n",
      "Multiprocess sampling (4 chains in 4 jobs)\n",
      "NUTS: [logs2, logP, logr, b, u, t0, m_star, r_star, mean]\n",
      "Sampling 4 chains: 100%|██████████| 4000/4000 [51:10<00:00,  2.12s/draws]  \n",
      "The acceptance probability does not match the target. It is 0.5649666941332818, but should be close to 0.9. Try to increase the number of tuning steps.\n",
      "The chain reached the maximum tree depth. Increase max_treedepth, increase target_accept or reparameterize.\n",
      "The acceptance probability does not match the target. It is 0.7987273761244653, but should be close to 0.9. Try to increase the number of tuning steps.\n",
      "The chain reached the maximum tree depth. Increase max_treedepth, increase target_accept or reparameterize.\n",
      "The acceptance probability does not match the target. It is 0.7387224784995297, but should be close to 0.9. Try to increase the number of tuning steps.\n",
      "The chain reached the maximum tree depth. Increase max_treedepth, increase target_accept or reparameterize.\n",
      "The acceptance probability does not match the target. It is 0.5717170139505977, but should be close to 0.9. Try to increase the number of tuning steps.\n",
      "The chain reached the maximum tree depth. Increase max_treedepth, increase target_accept or reparameterize.\n",
      "The gelman-rubin statistic is larger than 1.4 for some parameters. The sampler did not converge.\n",
      "The estimated number of effective samples is smaller than 200 for some parameters.\n"
     ]
    },
    {
     "name": "stdout",
     "output_type": "stream",
     "text": [
      "Generating summary for target K2-188.\n"
     ]
    },
    {
     "data": {
      "text/plain": [
       "<Figure size 216x216 with 0 Axes>"
      ]
     },
     "metadata": {},
     "output_type": "display_data"
    },
    {
     "data": {
      "text/plain": [
       "<Figure size 504x504 with 0 Axes>"
      ]
     },
     "metadata": {},
     "output_type": "display_data"
    },
    {
     "data": {
      "text/plain": [
       "<Figure size 504x504 with 0 Axes>"
      ]
     },
     "metadata": {},
     "output_type": "display_data"
    },
    {
     "data": {
      "text/plain": [
       "<Figure size 504x504 with 0 Axes>"
      ]
     },
     "metadata": {},
     "output_type": "display_data"
    }
   ],
   "source": [
    "tf.full_fit()"
   ]
  },
  {
   "cell_type": "code",
   "execution_count": null,
   "metadata": {
    "scrolled": true
   },
   "outputs": [],
   "source": [
    "for i in range(len(tf)):\n",
    "    print(tf)"
   ]
  },
  {
   "cell_type": "code",
   "execution_count": null,
   "metadata": {
    "scrolled": true
   },
   "outputs": [],
   "source": [
    "for n in range(100):\n",
    "    i = n + 300\n",
    "    try:\n",
    "        tf = TransitFit(ind=i)\n",
    "        tf.test_fit()\n",
    "        tf.full_fit()\n",
    "    except:\n",
    "        print('Index {} failed.'.format(i))\n",
    "        continue"
   ]
  },
  {
   "cell_type": "code",
   "execution_count": null,
   "metadata": {},
   "outputs": [],
   "source": []
  }
 ],
 "metadata": {
  "kernelspec": {
   "display_name": "Python 3",
   "language": "python",
   "name": "python3"
  },
  "language_info": {
   "codemirror_mode": {
    "name": "ipython",
    "version": 3
   },
   "file_extension": ".py",
   "mimetype": "text/x-python",
   "name": "python",
   "nbconvert_exporter": "python",
   "pygments_lexer": "ipython3",
   "version": "3.6.5"
  }
 },
 "nbformat": 4,
 "nbformat_minor": 2
}
